{
 "cells": [
  {
   "cell_type": "code",
   "execution_count": 1,
   "metadata": {},
   "outputs": [],
   "source": [
    "import numpy as np\n",
    "import math\n",
    "import matplotlib.pyplot as plt\n",
    "import random\n",
    "\n",
    "from sklearn import decomposition\n",
    "\n",
    "matplotlib_colors = ['b', 'g', 'r', 'c', 'm', 'grey', 'y', 'orange', 'pink', 'mediumspringgreen', 'darkcyan', 'darkviolet', 'darkslateblue', 'darkslategrey', 'skyblue', 'lime','indianred','maroon','darkolivegreen','dodgerblue'];"
   ]
  },
  {
   "cell_type": "markdown",
   "metadata": {},
   "source": [
    "# Functions"
   ]
  },
  {
   "cell_type": "markdown",
   "metadata": {},
   "source": [
    "Distance funcations"
   ]
  },
  {
   "cell_type": "code",
   "execution_count": 2,
   "metadata": {},
   "outputs": [],
   "source": [
    "def distance(data_point, centroid, method):\n",
    "    if method == \"L1\": \n",
    "            total_distance = np.linalg.norm(data_point-centroid,1)\n",
    "    else:\n",
    "            total_distance = np.linalg.norm(data_point-centroid,2)\n",
    "    if method == \"L2_sqr\":\n",
    "            total_distance = total_distance**2\n",
    "    return total_distance;"
   ]
  },
  {
   "cell_type": "markdown",
   "metadata": {},
   "source": [
    "Cluster Plotting"
   ]
  },
  {
   "cell_type": "code",
   "execution_count": 3,
   "metadata": {},
   "outputs": [],
   "source": [
    "def cluster_plot(title, labels, colors, data):\n",
    "    # Generates Cluster Graph\n",
    "    plt.title(title, {'fontsize':28})\n",
    "    plt.rcParams[\"figure.figsize\"] = (20,20)\n",
    "    plt.xticks(size=20)\n",
    "    plt.yticks(size=20)\n",
    "    cols = [colors[p] for p in labels]\n",
    "    plt.scatter(data[:,0], data[:,1], s=50, c=cols)\n",
    "    plt.show()\n",
    "    return;"
   ]
  },
  {
   "cell_type": "markdown",
   "metadata": {},
   "source": [
    "Normalizing or standardizing data"
   ]
  },
  {
   "cell_type": "code",
   "execution_count": 4,
   "metadata": {},
   "outputs": [],
   "source": [
    "def normalize_set(data_set):\n",
    "    data = np.copy(data_set)\n",
    "    mean_value = np.mean(data, axis = 0)\n",
    "    std_value = np.std(data, axis = 0)\n",
    "    data = (data-mean_value)/std_value\n",
    "    return data"
   ]
  },
  {
   "cell_type": "markdown",
   "metadata": {},
   "source": [
    "Kmeans and Kmeans++ algorithm"
   ]
  },
  {
   "cell_type": "code",
   "execution_count": 5,
   "metadata": {},
   "outputs": [],
   "source": [
    "def AS_kmeans(data_set, num_clusters,method = 'random', dist_func = 'L2'):\n",
    "    data = normalize_set(data_set)\n",
    "    PCA = decomposition.PCA(n_components = 2)\n",
    "    data = PCA.fit_transform(data)\n",
    "    \n",
    "    centers = [0]*num_clusters\n",
    "    error = 99\n",
    "    labels = [0]*len(data)\n",
    "    dist_centroids = [999999999]*len(data)\n",
    "    count = 1\n",
    "    try:\n",
    "        del centroids\n",
    "    except NameError:\n",
    "        None\n",
    "    \n",
    "    #Initiate Centroids with kmeans or kmeans++ process\n",
    "    for x in range(num_clusters):\n",
    "        center = random.randint(0,len(data)-1)\n",
    "        try:\n",
    "            centroids\n",
    "        except NameError:\n",
    "            centroids = [data[center]]\n",
    "            new_centroid_prob = np.ones(len(data))*9999999\n",
    "            centers[x] = center\n",
    "        else:\n",
    "            if method == \"K-means++\":\n",
    "                print('K-means++')\n",
    "                for y in centroids:\n",
    "                    for z in range(len(data)):\n",
    "                        new_centroid_prob[z] = min(new_centroid_prob[z],np.linalg.norm(data[z]-y,2)**2)\n",
    "                distance_sum = new_centroid_prob.sum()\n",
    "                new_centroid_prob = new_centroid_prob/distance_sum\n",
    "                next_centroid = np.random.choice(np.arange(len(data)), 1, p=new_centroid_prob)[0]\n",
    "                centroids = np.vstack((centroids,data[next_centroid]))\n",
    "            else:\n",
    "                while center in centers: \n",
    "                    center  = random.randint(0,len(data)-1)\n",
    "                centroids = np.vstack((centroids,data[center]))\n",
    "                centers[x] = center\n",
    "    del center\n",
    "    del centers \n",
    "    del new_centroid_prob\n",
    "    prev_centroids = -centroids\n",
    "\n",
    "    #Running kmeans process\n",
    "    while error > 0.01:\n",
    "        count += 1\n",
    "        for i in range(len(data)):\n",
    "            dist_centroid = 999999999;\n",
    "            for j in range(len(centroids)):\n",
    "                if method == \"K-Median\":\n",
    "                    k_distance = distance(data[i], centroids[j], 'L1')\n",
    "                else:\n",
    "                    k_distance = distance(data[i], centroids[j], dist_func)\n",
    "                    \n",
    "                if k_distance < dist_centroid:\n",
    "                    labels[i] = j\n",
    "                    dist_centroid = k_distance\n",
    "                    #dist_centroids[i] = k_distance\n",
    "                    dist_centroids[i] = distance(data[i], centroids[j], 'L2_sqr')\n",
    "\n",
    "        error = np.max(abs(abs(prev_centroids-centroids)/centroids))\n",
    "        if error > 0.01:\n",
    "            data_df = pd.DataFrame(labels , columns = [\"labels\"])\n",
    "            for col in range(len(data.T)):\n",
    "                col_name = 'x'+str(col);\n",
    "                data_df[col_name] = data[:,col].tolist()\n",
    "\n",
    "            prev_centroids = centroids.copy()\n",
    "            for i in range(len(centroids)):\n",
    "                for j in range(len(centroids[0])):\n",
    "                    centroids[i,j] = data_df[data_df['labels'] == i].mean()[j+1]\n",
    "        if count == 100000:\n",
    "            print(count)\n",
    "            break\n",
    "            \n",
    "    print(\"number of iterations: \", count)\n",
    "    #print(centroids)\n",
    "    return labels, data, sum(dist_centroids);"
   ]
  }
 ],
 "metadata": {
  "kernelspec": {
   "display_name": "Python 3",
   "language": "python",
   "name": "python3"
  },
  "language_info": {
   "codemirror_mode": {
    "name": "ipython",
    "version": 3
   },
   "file_extension": ".py",
   "mimetype": "text/x-python",
   "name": "python",
   "nbconvert_exporter": "python",
   "pygments_lexer": "ipython3",
   "version": "3.5.5"
  }
 },
 "nbformat": 4,
 "nbformat_minor": 2
}
